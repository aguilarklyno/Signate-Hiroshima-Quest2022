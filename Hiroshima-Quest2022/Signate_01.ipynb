{
 "cells": [
  {
   "cell_type": "code",
   "execution_count": 4,
   "id": "f676b1aa-5cc0-41aa-9103-ae940a9483f3",
   "metadata": {},
   "outputs": [],
   "source": [
    "import warnings\n",
    "warnings.simplefilter(\"ignore\")\n",
    "\n",
    "import pandas as pd\n",
    "import numpy as np\n",
    "import matplotlib.pyplot as plt\n",
    "%matplotlib inline\n",
    "import japanize_matplotlib\n",
    "\n",
    "# import folium"
   ]
  },
  {
   "cell_type": "code",
   "execution_count": 7,
   "id": "0ad0d1cc-2961-4d5a-b151-7777be2c04d2",
   "metadata": {},
   "outputs": [
    {
     "name": "stdout",
     "output_type": "stream",
     "text": [
      "shapeの確認\n",
      "雨量観測データ：　 (896003, 27)\n",
      "雨量観測データ所：　 (896003, 27)\n",
      "潮位観測データ：　 (28483, 27)\n",
      "潮位観測データ所:  (13, 10)\n",
      "水位観測データ:  (392066, 27)\n",
      "水位観測データ所:  (180, 12)\n",
      "damデータ:  (12, 21)\n"
     ]
    }
   ],
   "source": [
    "#雨量のデータの読み込み\n",
    "rain_data = pd.read_csv(\"./data/train/rainfall/data.csv\")\n",
    "rain_stations = pd.read_csv(\"./data/train/rainfall/data.csv\")\n",
    "print(\"shapeの確認\")\n",
    "print(\"雨量観測データ：　\", rain_data.shape)\n",
    "print(\"雨量観測データ所：　\", rain_stations.shape)\n",
    "\n",
    "#潮位のデータの読み込み\n",
    "tide_data = pd.read_csv(\"./data/train/tidelevel/data.csv\")\n",
    "tide_stations = pd.read_csv(\"./data/train/tidelevel/stations.csv\")\n",
    "print(\"潮位観測データ：　\", tide_data.shape)\n",
    "print(\"潮位観測データ所: \", tide_stations.shape)\n",
    "\n",
    "#水位のデータの読み込み\n",
    "water_data = pd.read_csv(\"./data/train/waterlevel/data.csv\")\n",
    "water_stations = pd.read_csv(\"./data/train/waterlevel/stations.csv\")\n",
    "print(\"水位観測データ: \", water_data.shape)\n",
    "print(\"水位観測データ所: \", water_stations.shape)\n",
    "\n",
    "#damデータの読み込み\n",
    "dam = pd.read_csv(\"./data/train/dam.csv\")\n",
    "print(\"damデータ: \", dam.shape)"
   ]
  },
  {
   "cell_type": "code",
   "execution_count": null,
   "id": "363dea9e-76b9-47d5-8e2e-ad7d6e10c799",
   "metadata": {},
   "outputs": [],
   "source": []
  },
  {
   "cell_type": "code",
   "execution_count": null,
   "id": "f7b919f4-2118-47f5-8c51-8f04983b4af6",
   "metadata": {},
   "outputs": [],
   "source": []
  },
  {
   "cell_type": "code",
   "execution_count": null,
   "id": "e5676f3d-cb93-4e7e-943d-fbf2bc6618cc",
   "metadata": {},
   "outputs": [],
   "source": []
  },
  {
   "cell_type": "code",
   "execution_count": null,
   "id": "fc79fb0e-9bad-4a07-8a07-06e91580ac3c",
   "metadata": {},
   "outputs": [],
   "source": []
  },
  {
   "cell_type": "code",
   "execution_count": null,
   "id": "43b5e07e-9237-4659-892c-8aa3db1139bb",
   "metadata": {},
   "outputs": [],
   "source": []
  },
  {
   "cell_type": "code",
   "execution_count": null,
   "id": "e028cf24-f28a-41a2-b527-4c9f03679fe2",
   "metadata": {},
   "outputs": [],
   "source": []
  },
  {
   "cell_type": "code",
   "execution_count": null,
   "id": "edbfa201-16d7-41f5-a70b-1e1e0dac751e",
   "metadata": {},
   "outputs": [],
   "source": []
  },
  {
   "cell_type": "code",
   "execution_count": null,
   "id": "03e6c0ee-b5bc-466b-bf4d-1f352570b5e0",
   "metadata": {},
   "outputs": [],
   "source": []
  },
  {
   "cell_type": "code",
   "execution_count": null,
   "id": "2f507b8d-3662-4fdf-8702-e3dbc53eb57b",
   "metadata": {},
   "outputs": [],
   "source": []
  },
  {
   "cell_type": "code",
   "execution_count": null,
   "id": "064ac4fe-2c6d-4d6f-8422-e23e1a2581ca",
   "metadata": {},
   "outputs": [],
   "source": []
  },
  {
   "cell_type": "code",
   "execution_count": null,
   "id": "9a8db14f-9e91-4eb9-ab96-faca579147d4",
   "metadata": {},
   "outputs": [],
   "source": []
  },
  {
   "cell_type": "code",
   "execution_count": null,
   "id": "66db6bce-fb85-45fe-b4c8-469c38bee577",
   "metadata": {},
   "outputs": [],
   "source": []
  },
  {
   "cell_type": "code",
   "execution_count": null,
   "id": "17c69716-0e8f-45df-89f0-9681959a8500",
   "metadata": {},
   "outputs": [],
   "source": []
  },
  {
   "cell_type": "code",
   "execution_count": null,
   "id": "c235d061-b406-4a07-8b4b-f41ee72ae0e3",
   "metadata": {},
   "outputs": [],
   "source": []
  }
 ],
 "metadata": {
  "kernelspec": {
   "display_name": "Python 3 (ipykernel)",
   "language": "python",
   "name": "python3"
  },
  "language_info": {
   "codemirror_mode": {
    "name": "ipython",
    "version": 3
   },
   "file_extension": ".py",
   "mimetype": "text/x-python",
   "name": "python",
   "nbconvert_exporter": "python",
   "pygments_lexer": "ipython3",
   "version": "3.9.13"
  }
 },
 "nbformat": 4,
 "nbformat_minor": 5
}
